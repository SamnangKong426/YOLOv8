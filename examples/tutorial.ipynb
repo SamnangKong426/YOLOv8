{
  "nbformat": 4,
  "nbformat_minor": 0,
  "metadata": {
    "colab": {
      "name": "YOLOv8 Tutorial",
      "provenance": [],
      "toc_visible": true,
      "include_colab_link": true
    },
    "kernelspec": {
      "name": "python3",
      "display_name": "Python 3"
    },
    "accelerator": "GPU"
  },
  "cells": [
    {
      "cell_type": "markdown",
      "metadata": {
        "id": "view-in-github",
        "colab_type": "text"
      },
      "source": [
        "<a href=\"https://colab.research.google.com/github/SamnangKong426/YOLOv8/blob/colab/examples/tutorial.ipynb\" target=\"_parent\"><img src=\"https://colab.research.google.com/assets/colab-badge.svg\" alt=\"Open In Colab\"/></a>"
      ]
    },
    {
      "cell_type": "code",
      "source": [
        "# How to Train YOLOv8 Object Detection on a Custom Dataset"
      ],
      "metadata": {
        "id": "-gKw5PnyvqS8"
      },
      "execution_count": null,
      "outputs": []
    },
    {
      "cell_type": "code",
      "source": [
        "!nvidia-smi"
      ],
      "metadata": {
        "id": "hZkAAU90vviU"
      },
      "execution_count": null,
      "outputs": []
    },
    {
      "cell_type": "code",
      "source": [
        "!pip install ultralytics"
      ],
      "metadata": {
        "id": "Vta46RV1vx3g"
      },
      "execution_count": null,
      "outputs": []
    },
    {
      "cell_type": "markdown",
      "source": [
        "# Install YOLOv8"
      ],
      "metadata": {
        "id": "4V6_tmMDv2mu"
      }
    },
    {
      "cell_type": "code",
      "source": [
        "from ultralytics import YOLO\n",
        "import os\n",
        "from IPython.display import display, Image\n",
        "from IPython import display\n",
        "display.clear_output()\n",
        "!yolo model=checks"
      ],
      "metadata": {
        "id": "JLDM19Q3v4lR"
      },
      "execution_count": null,
      "outputs": []
    },
    {
      "cell_type": "markdown",
      "source": [
        "# Train YOLOv8 Model on Custom Dataset"
      ],
      "metadata": {
        "id": "4ZSUjx7swPts"
      }
    },
    {
      "cell_type": "code",
      "source": [
        "!yolo task=detect mode=train model=yolov8m.pt data={dataset.location}/data.yaml epochs=20 imgsz=640"
      ],
      "metadata": {
        "id": "cWv3u-oMwi0L"
      },
      "execution_count": null,
      "outputs": []
    },
    {
      "cell_type": "code",
      "source": [
        "Image(filename=f'', width=600)"
      ],
      "metadata": {
        "id": "-csoJgGxwwCj"
      },
      "execution_count": null,
      "outputs": []
    },
    {
      "cell_type": "code",
      "source": [
        "Image(filename=f'', width=600)"
      ],
      "metadata": {
        "id": "05O9q9WbxCi0"
      },
      "execution_count": null,
      "outputs": []
    },
    {
      "cell_type": "code",
      "source": [
        "!yolo task=detect mode=val model= data={dataset.location}/data.yaml"
      ],
      "metadata": {
        "id": "LSqk9d5gxFBs"
      },
      "execution_count": null,
      "outputs": []
    },
    {
      "cell_type": "code",
      "source": [
        "!yolo task=detedt mode=predict model= conf=0.5 source{dataset.location}/"
      ],
      "metadata": {
        "id": "jmOV0hTrxN0n"
      },
      "execution_count": null,
      "outputs": []
    },
    {
      "cell_type": "code",
      "source": [
        "import glob\n",
        "from IPython.display import Image, display\n",
        "\n",
        "for image_path in glob.glob(f''):\n",
        "    display(Image(filename=image_path, height=600))\n",
        "    print(\"\\n\")"
      ],
      "metadata": {
        "id": "w3gLZKHBxbmb"
      },
      "execution_count": null,
      "outputs": []
    }
  ]
}