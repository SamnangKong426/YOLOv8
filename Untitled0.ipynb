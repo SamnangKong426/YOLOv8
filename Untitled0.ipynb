{
  "nbformat": 4,
  "nbformat_minor": 0,
  "metadata": {
    "colab": {
      "provenance": [],
      "authorship_tag": "ABX9TyOhi3ouSUoHsS2qKN3n64N4",
      "include_colab_link": true
    },
    "kernelspec": {
      "name": "python3",
      "display_name": "Python 3"
    },
    "language_info": {
      "name": "python"
    }
  },
  "cells": [
    {
      "cell_type": "markdown",
      "metadata": {
        "id": "view-in-github",
        "colab_type": "text"
      },
      "source": [
        "<a href=\"https://colab.research.google.com/github/SamnangKong426/YOLOv8/blob/colab/Untitled0.ipynb\" target=\"_parent\"><img src=\"https://colab.research.google.com/assets/colab-badge.svg\" alt=\"Open In Colab\"/></a>"
      ]
    },
    {
      "cell_type": "code",
      "execution_count": null,
      "metadata": {
        "id": "1Fj4gMtZJkS6"
      },
      "outputs": [],
      "source": [
        "!pip install ultralitics -q"
      ]
    },
    {
      "cell_type": "code",
      "source": [
        "!yolo detect predict model=yolov8m.pt source="
      ],
      "metadata": {
        "id": "mns3lDf-J2v4"
      },
      "execution_count": null,
      "outputs": []
    },
    {
      "cell_type": "code",
      "source": [
        "!ffmpeg -i {} -vcodec libx264 {\"final.mp4\"}"
      ],
      "metadata": {
        "id": "UBJU3FGaKP3B"
      },
      "execution_count": null,
      "outputs": []
    },
    {
      "cell_type": "code",
      "source": [
        "from google.colab import drive\n",
        "drive.mount('/content/drive')"
      ],
      "metadata": {
        "id": "AytMg2jNMZKx"
      },
      "execution_count": null,
      "outputs": []
    }
  ]
}